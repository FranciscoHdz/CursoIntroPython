{
 "cells": [
  {
   "cell_type": "markdown",
   "metadata": {},
   "source": [
    "# Manejo de Errores"
   ]
  },
  {
   "cell_type": "markdown",
   "metadata": {},
   "source": [
    "Primero intentamos abrir un archivo para ver el error que se genera"
   ]
  },
  {
   "cell_type": "code",
   "execution_count": 2,
   "metadata": {},
   "outputs": [
    {
     "ename": "FileNotFoundError",
     "evalue": "[Errno 2] No such file or directory: '/path/to/mars.jpg'",
     "output_type": "error",
     "traceback": [
      "\u001b[1;31m---------------------------------------------------------------------------\u001b[0m",
      "\u001b[1;31mFileNotFoundError\u001b[0m                         Traceback (most recent call last)",
      "\u001b[1;32md:\\Projects\\Python\\CursoIntroPython\\CursoIntroPython-1\\Módulo 10 - Manejo de errores\\Módulo10Katas.ipynb Cell 3'\u001b[0m in \u001b[0;36m<module>\u001b[1;34m\u001b[0m\n\u001b[1;32m----> <a href='vscode-notebook-cell:/d%3A/Projects/Python/CursoIntroPython/CursoIntroPython-1/M%C3%B3dulo%2010%20-%20Manejo%20de%20errores/M%C3%B3dulo10Katas.ipynb#ch0000003?line=0'>1</a>\u001b[0m \u001b[39mopen\u001b[39;49m(\u001b[39m\"\u001b[39;49m\u001b[39m/path/to/mars.jpg\u001b[39;49m\u001b[39m\"\u001b[39;49m)\n",
      "\u001b[1;31mFileNotFoundError\u001b[0m: [Errno 2] No such file or directory: '/path/to/mars.jpg'"
     ]
    }
   ],
   "source": [
    "open(\"/path/to/mars.jpg\")"
   ]
  },
  {
   "cell_type": "markdown",
   "metadata": {},
   "source": [
    "Generamos un archivo de python el cual debe de contener el siguiente código\n",
    "\n",
    "```\n",
    "def main():\n",
    "    open(\"/path/to/mars.jpg\")\n",
    "\n",
    "if __name__ == '__main__':\n",
    "    main()\n",
    "```\n",
    "\n",
    "Una vez guardado dicho archivo procedemos a ejecutar el programa en la terminal y al ejecutar nos muestra el siguiente error.\n",
    "\n",
    "![image](./assets/Error_consola.jpg)\n",
    "\n",
    "## Control de excepciones\n",
    "\n",
    "Ahora procederemos a utilizar código para poder cachar el error y pueda ser mas claro el detalle del error.\n",
    "\n",
    "Para ello debemos de escribir el siguiente código \n",
    "```\n",
    "try:\n",
    "    open('config.txt')\n",
    "except FileNotFoundError:\n",
    "    print(\"No fue posible encontrar el archivo config.txt\")\n",
    "```"
   ]
  },
  {
   "cell_type": "code",
   "execution_count": 3,
   "metadata": {},
   "outputs": [
    {
     "name": "stdout",
     "output_type": "stream",
     "text": [
      "No fue posible encontrar el archivo config.txt\n"
     ]
    }
   ],
   "source": [
    "try:\n",
    "    open('config.txt')\n",
    "except FileNotFoundError:\n",
    "    print(\"No fue posible encontrar el archivo config.txt\")"
   ]
  },
  {
   "cell_type": "markdown",
   "metadata": {},
   "source": [
    "Como podemos observar con el bloque de código anterior podemos definir el mensaje o detalle del error que se genera.\n",
    "\n",
    "Ahora procederemos a  incluir dicho bloque de código en nuestro archivo de Python previamente creado.\n",
    "\n",
    "![image](./assets/primer_programa.jpg)\n",
    "\n",
    "Una vez modificado nos debería de quedar de la siguiente forma.\n",
    "\n",
    "![image](./assets/segundo_programa.jpg)\n",
    "\n",
    "\n",
    "una vez terminada la modificación procedemos a ejecutar el código desde consola y nos debe de mostrar el mensaje de error que definimos.\n",
    "\n",
    "![image](./assets/Error_consola2.jpg)\n",
    "\n",
    "\n",
    "Como paso siguiente de esta practica procedemos a generar un archivo nuevo en Python el cual nombraremos como config.py en dicho archivo colocaremos el siguiente código.\n",
    "\n",
    "```\n",
    "def main():\n",
    "    try:\n",
    "        configuration = open('config.txt')\n",
    "    except FileNotFoundError:\n",
    "        print(\"No se puedo encontrar el archivo config.txt\")\n",
    "\n",
    "\n",
    "if __name__ == '__main__':\n",
    "    main()\n",
    "```\n",
    "\n",
    "Al ejecutar el código podemos observar que muestra el mensaje que uno determino anteriormente \n",
    "\n",
    "![image](./assets/Error_consola2.jpg)\n",
    "\n",
    "Como siguiente paso procedemos a crear un directorio con el nombre de config.txt y volvemos a ejecutar nuestro código y cómo podemos observar la excepción no se ejecuta ya que esta excepción no es la misma que la anterior.\n",
    "\n",
    "![imagen](./assets/Error_consola3.jpg)\n",
    "\n",
    "Ahora modificaremos el programa para poder cachar el error por permiso para ello realizaremos la siguiente actualización.\n",
    "```\n",
    "def main(): \n",
    "    try: \n",
    "        configuration = open('config.txt') \n",
    "    except FileNotFoundError: \n",
    "        print(\"No se puedo encontrar el archivo config.txt\") \n",
    "    except PermissionError: \n",
    "        print(\"Se encontró config.txt pero es un directorio y no es posible leerlo\")\n",
    "```\n",
    "![image](./assets/tercer_programa.jpg)\n",
    "\n",
    "Una vez realizada la modificación procedemos a correr el programa y ahora se muestra el error que se acaba de definir \n",
    "\n",
    "![image](./assets/Error_consola4.jpg)\n",
    "\n",
    "Ahora precedemos a borrar el directorio para probar que aun funciona el manejo de erro que definimos anteriormente.\n",
    "\n",
    "![image](./assets/Error_consola5.jpg)\n",
    "\n",
    "\n",
    "Ahora modificaremos el programa para poder utilizar el control de errores por medio de la excepción OSError\n",
    "\n",
    "El programa con la modificación quedaría de la siguiente forma:\n",
    "\n",
    "![image](./assets/cuarto_programa.jpg)\n",
    "\n",
    "\n",
    "## Generación de excepciones\n",
    "\n",
    "Ahora pasaremos a practicar la generación de excepciones, para ello generaremos un programa el cual nos informara si el agua que llevan los astronautas es suficiente para el viaje dependiendo de la cantidad de astronautas y contemplando un uso limitado de 11 litros de agua al día.\n",
    "\n",
    "Para ello escribimos el siguiente código:\n",
    "\n",
    "![image](./assets/quinto_programa.jpg)\n",
    "\n",
    "\n",
    "Una vez que realizamos la pruebas con el código anterior, vamos a modificar para poder generar un erro en el caso de que la cantidad de agua sea menor o igual a 0 con la finalidad de alertar a los astronautas sobre la situación.\n",
    "\n",
    "Para ello actualizamos el código de la siguiente forma:\n",
    "\n",
    "\n",
    "![image](./assets/sexto_programa.jpg)\n",
    "\n",
    "\n",
    "Ahora para mejorar el programa procederemos a incluir una validación por tipo de dato, para ello procedemos a actualizar de la siguiente forma.\n",
    "\n",
    "![image](./assets/septimo_programa.jpg)\n",
    "\n",
    "\n",
    "\n",
    "\n"
   ]
  }
 ],
 "metadata": {
  "interpreter": {
   "hash": "63fd5069d213b44bf678585dea6b12cceca9941eaf7f819626cde1f2670de90d"
  },
  "kernelspec": {
   "display_name": "Python 3.9.7 64-bit",
   "language": "python",
   "name": "python3"
  },
  "language_info": {
   "codemirror_mode": {
    "name": "ipython",
    "version": 3
   },
   "file_extension": ".py",
   "mimetype": "text/x-python",
   "name": "python",
   "nbconvert_exporter": "python",
   "pygments_lexer": "ipython3",
   "version": "3.9.7"
  },
  "orig_nbformat": 4
 },
 "nbformat": 4,
 "nbformat_minor": 2
}
